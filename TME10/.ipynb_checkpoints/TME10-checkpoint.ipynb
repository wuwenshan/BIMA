{
 "cells": [
  {
   "cell_type": "markdown",
   "metadata": {},
   "source": [
    "# TME 10: Split and Merge"
   ]
  },
  {
   "cell_type": "code",
   "execution_count": 155,
   "metadata": {},
   "outputs": [],
   "source": [
    "### Usefull libraries\n",
    "from PIL import Image\n",
    "import numpy as np\n",
    "import matplotlib.pyplot as plt\n",
    "import random\n",
    "\n",
    "### Data\n",
    "img_test = np.full((64,64),150,dtype=np.uint8)\n",
    "img_test[32:48,16:16+32] = 100\n",
    "img_test[8:24,40:56] = 50\n",
    "\n",
    "small_test = np.full((8,8),150,dtype=np.uint8)\n",
    "small_test[1:3,5:7] = 100\n",
    "small_test[4:6,2:6] = 50\n",
    "\n",
    "angio = np.array(Image.open('img/angiogra.png'))\n",
    "cam = np.array(Image.open('img/cameraman.png'))\n",
    "muscle = np.array(Image.open('img/muscle.png'))\n",
    "prisme = np.array(Image.open('img/prisme.png'))\n",
    "seiche = np.array(Image.open('img/seiche.png'))\n",
    "\n",
    "### Usefull functions\n",
    "def voisins(b,K):\n",
    "    \"\"\" Blocstat*list[Blocstat]->list[Blocstat]\n",
    "        retourne la liste des elements de K voisins de b\n",
    "    \"\"\"\n",
    "    def estdans(x,y,a):\n",
    "        \"\"\" int*int*Blocstat -> bool \n",
    "            Teste si (x,y) est dans a \n",
    "        \"\"\"\n",
    "        return x>=a[0] and y>=a[1] and x<a[0]+a[2] and y<a[1]+a[3]\n",
    "    def sontvoisins(a,b):\n",
    "        \"\"\" Blocstat**2 -> bool\n",
    "            Teste si a et b sont voisins\n",
    "        \"\"\"\n",
    "        if a[2]>b[2] and a[3]>b[3]:\n",
    "            a,b=b,a\n",
    "        x,y = a[0]+a[2]//2,a[1]+a[3]//2\n",
    "        return estdans(x+a[2],y,b) or estdans(x-a[2],y,b) or estdans(x,y+a[3],b) or estdans(x,y-a[3],b)\n",
    "    N = []\n",
    "    for n in K:\n",
    "        if sontvoisins(b,n):\n",
    "            N.append(n)\n",
    "    return N\n",
    "\n",
    "def imshow(I, title=None, size=500, axis=False):\n",
    "    \"\"\" display an image, with title, size, and axis \"\"\"\n",
    "    plt.figure(figsize=(size//80, size//80))\n",
    "    plt.gray()\n",
    "    #plt.hot()\n",
    "    plt.imshow(I)\n",
    "    if not axis: plt.axis('off')\n",
    "    if title: plt.title(title)\n",
    "    plt.show()"
   ]
  },
  {
   "cell_type": "markdown",
   "metadata": {},
   "source": [
    "## Exercice 1\n",
    "\n",
    "### Question 1\n",
    "Écrire la fonction récursive ``split()`` vue en TD. Elle prend en entrée l'image, une région, un prédicat, et un nombre variable d'arguments. La région est de type formel Python ```Bloc``` défini par :\n",
    "```python\n",
    "type Bloc = tuple[int**4]\n",
    "```\n",
    "La fonction ``split()`` retourne un arbre 4-aire de type formel Python, défini récursivement par:\n",
    "```python\n",
    "type 4-aire = list[(4-aire**4|Bloc)] \n",
    "```\n",
    "Le prédicat est une fonction Python de signature:\n",
    "```python\n",
    "Array*Bloc*...->bool\n",
    "```\n",
    "Elle peut prendre un nombre variable de paramètres qui correspond aux paramètres du prédicat.\n"
   ]
  },
  {
   "cell_type": "code",
   "execution_count": 156,
   "metadata": {},
   "outputs": [],
   "source": [
    "def split(I,reg,pred,*args):\n",
    "    \"\"\" Array*Bloc*(Array*Bloc*...->bool)*... -> 4-aire\n",
    "        Découpage de I en arbre 4-aire sur un critère d'écart-type minimal\n",
    "    \"\"\"\n",
    "    if pred(I,reg,args[0]) == False:\n",
    "        return reg\n",
    "    \n",
    "    else:\n",
    "        \n",
    "        reg1 = (reg[0], (reg[0]+reg[1]-1)/2, reg[2], (reg[2]+reg[3]-1)/2)\n",
    "        reg2 = (reg[0], (reg[0]+reg[1]-1)/2, (reg[2]+reg[3]+1)/2, reg[3])\n",
    "        reg3 = ((reg[0]+reg[1]+1)/2, reg[1], reg[2], (reg[2]+reg[3]-1)/2)\n",
    "        reg4 = ((reg[0]+reg[1]+1)/2, reg[1], (reg[2]+reg[3]+1)/2, reg[3])\n",
    "        \n",
    "        return [ split(I, reg1, pred, args), split(I, reg2, pred, args), \n",
    "                 split(I, reg3, pred, args), split(I, reg4, pred, args) ]\n",
    "    "
   ]
  },
  {
   "cell_type": "markdown",
   "metadata": {},
   "source": [
    "### Question 2\n",
    "Écrire la fonction ```predsplit1(I,B,*args)``` de signature :\n",
    "```python\n",
    "Array*Bloc*... -> bool\n",
    "```\n",
    "qui retourne True si l'écart-type de l'image ``I`` calculé sur la région ``B`` est plus grand que la valeur du premier argument de ``*args`` (on y accède simplement par ``*args[0]``)."
   ]
  },
  {
   "cell_type": "code",
   "execution_count": 157,
   "metadata": {},
   "outputs": [],
   "source": [
    "def predsplit1(I,reg,*args):\n",
    "    \"\"\" Array*Bloc*... -> bool\n",
    "    \"\"\" \n",
    "    return np.where(np.std(I[int(reg[0]):int(reg[1]+1), int(reg[2]):int(reg[3]+1)]) > args[0], True, False) "
   ]
  },
  {
   "cell_type": "markdown",
   "metadata": {},
   "source": [
    "### Question 3\n",
    "Écrire la fonction ``splitprof(L)`` qui réaliste un parcours (récursif) en profondeur de l'arbre 4-aire passé en paramètre. La fonction retourne la liste des feuilles de ``L``, soit une liste de bloc."
   ]
  },
  {
   "cell_type": "code",
   "execution_count": 158,
   "metadata": {},
   "outputs": [],
   "source": [
    "def splitprof(L):\n",
    "    \"\"\" 4-aire -> list[Bloc]\"\"\"\n",
    "    blocs = []\n",
    "    for i in range(len(L)):\n",
    "        if isinstance(L[i], tuple):\n",
    "            blocs.append(L[i])\n",
    "        else:\n",
    "            blocs += splitprof(L[i])\n",
    "    return blocs"
   ]
  },
  {
   "cell_type": "markdown",
   "metadata": {},
   "source": [
    "### Question 4\n",
    "Tester vos codes sur l'image test ``img_test`` vue en TD. Imprimer la valeur retournée par ``split()`` ainsi que celle retournée par ``profsplit()``. "
   ]
  },
  {
   "cell_type": "code",
   "execution_count": 178,
   "metadata": {},
   "outputs": [
    {
     "name": "stdout",
     "output_type": "stream",
     "text": [
      "[(0, 31.0, 0, 31.0), [[(0, 7.0, 32.0, 39.0), (0, 7.0, 40.0, 47.0), (8.0, 15.0, 32.0, 39.0), (8.0, 15.0, 40.0, 47.0)], [(0, 7.0, 48.0, 55.0), (0, 7.0, 56.0, 63), (8.0, 15.0, 48.0, 55.0), (8.0, 15.0, 56.0, 63)], [(16.0, 23.0, 32.0, 39.0), (16.0, 23.0, 40.0, 47.0), (24.0, 31.0, 32.0, 39.0), (24.0, 31.0, 40.0, 47.0)], [(16.0, 23.0, 48.0, 55.0), (16.0, 23.0, 56.0, 63), (24.0, 31.0, 48.0, 55.0), (24.0, 31.0, 56.0, 63)]], [(32.0, 47.0, 0, 15.0), (32.0, 47.0, 16.0, 31.0), (48.0, 63, 0, 15.0), (48.0, 63, 16.0, 31.0)], [(32.0, 47.0, 32.0, 47.0), (32.0, 47.0, 48.0, 63), (48.0, 63, 32.0, 47.0), (48.0, 63, 48.0, 63)]]\n"
     ]
    }
   ],
   "source": [
    "arbre = split(img_test, (0,63,0,63), predsplit1, 5.0)\n",
    "print((arbre))\n",
    "#print(arbre)\n",
    "\n",
    "\n",
    "# img3d = np.zeros([8, 8, 3])\n",
    "# print(img3d[0:3+1,0:3+1,:])\n",
    "# img3d[0:3+1,0:3+1,:] = [128,0,0]\n",
    "# print(img3d[0:3+1,0:3+1,:])\n",
    "# imshow(img3d)\n",
    "#img3d[0,1,:] = [0,1,0]\n",
    "    \n",
    "#imshow(img3d)\n",
    "\n",
    "# width = 5\n",
    "# height = 4\n",
    "\n",
    "# array = np.zeros([height, width, 3], dtype=np.uint8)\n",
    "# print(array)\n",
    "# array[0,0,0] = 255\n",
    "# imshow(array)\n",
    "# array = np.zeros([100, 200, 3], dtype=np.uint8)\n",
    "# array[:,:100] = [255, 128, 0] #Orange left side\n",
    "# array[:,100:] = [0, 0, 255]   #Blue right side\n",
    "# print(array)\n",
    "# imshow(array)"
   ]
  },
  {
   "cell_type": "markdown",
   "metadata": {},
   "source": [
    "### Question 4\n",
    "Écrire la fonction ```splitdraw(L,I)``` qui prend en paramètre une liste de bloc et une image et retourne une image dont les bords de chaque éléments de ``L`` ont été dessiné en rouge. Indication: l'image retournée est une hypermatrice de dimension 3, la troisième dimension a une taille de 3 et correspond aux composantes rouge, verte et bleue d'une image RGB. Tester son bon fonctionnement sur l'exemple précédent."
   ]
  },
  {
   "cell_type": "code",
   "execution_count": 115,
   "metadata": {},
   "outputs": [],
   "source": [
    "def splitdraw(LL,I):\n",
    "    \"\"\" list[Bloc]*Array -> Array\n",
    "        parcours de la liste dessin des régions \n",
    "    \"\"\"\n",
    "    rgb = [ [255,0,0], [0,255,0], [0,0,255], [255,255,0], [0,255,255], [255,0,255] ]\n",
    "    img3d = np.zeros([I.shape[0], I.shape[1], 3])\n",
    "    for i in range(len(LL)):\n",
    "        rgb = np.roll(rgb,3)\n",
    "        img3d[int(LL[i][0]):int(LL[i][1]+1), int(LL[i][2]):int(LL[i][3]+1), :] = rgb[0]\n",
    "    return img3d\n",
    "    "
   ]
  },
  {
   "cell_type": "markdown",
   "metadata": {},
   "source": [
    "### Question 5\n",
    "Ajouter un bruit gaussien sur l'image ``img_test`` d'écart-type 5. Recalculer un découpage 4-aire sur l'image bruitée en ajustant le seuil de façon à obtenir le même résultat que dans la question précédente. Quelle valeur de seuil a-t-il fallut choisir ? Cela vous semble-t-il cohérent ?\n",
    "\n",
    "Indication: utiliser la fonction Numpy ``random.randn()`` qui génère des valeurs aléatoires tirées selon une loi normale (loi gaussienne de moyenne nulle et de variance 1). Pour obtenir des réalisations d'une gaussienne d'écart type $\\sigma$, il suffit de faire des tirages d'une loi normale, multipliés par $\\sigma$. "
   ]
  },
  {
   "cell_type": "code",
   "execution_count": 116,
   "metadata": {},
   "outputs": [
    {
     "data": {
      "image/png": "[encoded data removed]",
      "text/plain": [
       "<Figure size 432x432 with 1 Axes>"
      ]
     },
     "metadata": {},
     "output_type": "display_data"
    },
    {
     "name": "stdout",
     "output_type": "stream",
     "text": [
      "(0, 7, 0, 7)\n"
     ]
    }
   ],
   "source": [
    "from numpy import random\n",
    "\n",
    "new_img = small_test.copy()\n",
    "\n",
    "for i in range(8):\n",
    "    for j in range(8):\n",
    "        nb = random.randn() * 5\n",
    "        new_img[i,j] = small_test[i,j] * nb\n",
    "        \n",
    "imshow(new_img)\n",
    "arbre2 = split(new_img, (0,7,0,7), predsplit1, 70.0)\n",
    "print(arbre2)\n",
    "\n",
    "# nb = random.randn() * 5\n",
    "# new_img = small_test * nb\n",
    "# imshow(new_img)\n",
    "# print( split(new_img, (0,7,0,7), predsplit1, 0.002) )"
   ]
  },
  {
   "cell_type": "markdown",
   "metadata": {},
   "source": [
    "# Exercice 2\n",
    "Question 1:\n",
    "Expérimenter l'algorithme de split sur les 4 images naturelles fournie. Pour chaque image essayer de trouver le seuil qui vous semble visuellement le meilleur. Afficher le nombre de bloc obtenus après découpage."
   ]
  },
  {
   "cell_type": "code",
   "execution_count": 132,
   "metadata": {
    "scrolled": false
   },
   "outputs": [
    {
     "name": "stderr",
     "output_type": "stream",
     "text": [
      "Clipping input data to the valid range for imshow with RGB data ([0..1] for floats or [0..255] for integers).\n"
     ]
    },
    {
     "data": {
      "image/png": "[encoded data removed]",
      "text/plain": [
       "<Figure size 432x432 with 1 Axes>"
      ]
     },
     "metadata": {},
     "output_type": "display_data"
    },
    {
     "name": "stderr",
     "output_type": "stream",
     "text": [
      "Clipping input data to the valid range for imshow with RGB data ([0..1] for floats or [0..255] for integers).\n"
     ]
    },
    {
     "data": {
      "image/png": "[encoded data removed]",
      "text/plain": [
       "<Figure size 432x432 with 1 Axes>"
      ]
     },
     "metadata": {},
     "output_type": "display_data"
    }
   ],
   "source": [
    "arbre2 = split(img_test, (0,63,0,63), predsplit1, 10.0)\n",
    "sp = splitprof(arbre2)\n",
    "imshow(splitdraw(sp,img_test))\n",
    "\n",
    "aaa = np.zeros([8,8,3])\n",
    "aaa[:,:,0] = small_test\n",
    "aaa[:,:,1] = small_test\n",
    "aaa[:,:,2] = small_test\n",
    "imshow(aaa)"
   ]
  },
  {
   "cell_type": "markdown",
   "metadata": {},
   "source": [
    "## Exercice 3\n",
    "### Question 1\n",
    "Modifier la fonction ``splitprof(L)`` pour en faire une fonction ``splitprofstat(L,I)`` qui rend une liste de feuilles de l'arbre 4-aire ``L`` et telle que chaque élément de cette liste, de type ``Bloc``, est enrichi de trois scalaires, le premier étant la taille, le second la moyenne et la troisième la variance des valeurs de pixels du bloc dans l'image ``I``. Cette fonction rend alors une liste dont les éléments ont pour type formel:\n",
    "```python\n",
    "type Blocstat = tuple[int**4,int,float**2]\n",
    "```\n",
    "Les quatre premières valeurs sont celles du type ``Bloc``, la cinquième est la taille du bloc (en nombre de pixels) et les deux dernières correspondent à la moyenne et la variance calculées sur la région.\n"
   ]
  },
  {
   "cell_type": "code",
   "execution_count": 134,
   "metadata": {},
   "outputs": [],
   "source": [
    "# type Blocstat = tuple[int**4,int,float**2]\n",
    "\n",
    "def splitprofstats(L,I):\n",
    "    \"\"\" 4-aire*Array -> list[Blocstat] \"\"\"\n",
    "    blocstat = []\n",
    "    blocs = splitprof(L) # renvoie une liste de bloc\n",
    "    for bloc in blocs:\n",
    "        region = I[ int(bloc[0]):int(bloc[1]+1), int(bloc[2]):int(bloc[3]+1) ]\n",
    "        taille = region.shape[0] * region.shape[1]\n",
    "        moy = np.mean(region)\n",
    "        var = np.var(region)\n",
    "        bloc += (taille,moy,var)\n",
    "        blocstat.append(bloc)\n",
    "    return blocstat"
   ]
  },
  {
   "cell_type": "code",
   "execution_count": 160,
   "metadata": {},
   "outputs": [
    {
     "name": "stdout",
     "output_type": "stream",
     "text": [
      "[(0, 3.0, 0, 3.0, 16, 150.0, 0.0), (0, 0.0, 4.0, 4.0, 1, 150.0, 0.0), (0, 0.0, 5.0, 5.0, 1, 150.0, 0.0), (1.0, 1.0, 4.0, 4.0, 1, 150.0, 0.0), (1.0, 1.0, 5.0, 5.0, 1, 100.0, 0.0), (0, 0.0, 6.0, 6.0, 1, 150.0, 0.0), (0, 0.0, 7.0, 7, 1, 150.0, 0.0), (1.0, 1.0, 6.0, 6.0, 1, 100.0, 0.0), (1.0, 1.0, 7.0, 7, 1, 150.0, 0.0), (2.0, 2.0, 4.0, 4.0, 1, 150.0, 0.0), (2.0, 2.0, 5.0, 5.0, 1, 100.0, 0.0), (3.0, 3.0, 4.0, 4.0, 1, 150.0, 0.0), (3.0, 3.0, 5.0, 5.0, 1, 150.0, 0.0), (2.0, 2.0, 6.0, 6.0, 1, 100.0, 0.0), (2.0, 2.0, 7.0, 7, 1, 150.0, 0.0), (3.0, 3.0, 6.0, 6.0, 1, 150.0, 0.0), (3.0, 3.0, 7.0, 7, 1, 150.0, 0.0), (4.0, 5.0, 0, 1.0, 4, 150.0, 0.0), (4.0, 5.0, 2.0, 3.0, 4, 50.0, 0.0), (6.0, 7, 0, 1.0, 4, 150.0, 0.0), (6.0, 7, 2.0, 3.0, 4, 150.0, 0.0), (4.0, 5.0, 4.0, 5.0, 4, 50.0, 0.0), (4.0, 5.0, 6.0, 7, 4, 150.0, 0.0), (6.0, 7, 4.0, 5.0, 4, 150.0, 0.0), (6.0, 7, 6.0, 7, 4, 150.0, 0.0)]\n"
     ]
    }
   ],
   "source": [
    "arbre = split(small_test, (0,7,0,7), predsplit1, 10.0)\n",
    "sps = splitprofstats(arbre,small_test)\n",
    "print(sps)"
   ]
  },
  {
   "cell_type": "markdown",
   "metadata": {},
   "source": [
    "### Question 2\n",
    "Dans la suite du TME, on considère le type formel:\n",
    "```python\n",
    "type Region = list[Blocstat]\n",
    "```\n",
    "Une région, comme vu au TME, est donc une liste de blocs. Écrire le prédicat de fusion ``predmerge(b,R,*args)`` vu en TD. Cette fonction retourne ```True``` si le bloc ``b`` doit fusionner dans la région ``R``. Si telle est le cas, alors le premier élément de la liste ``R`` voit ses statistiques modifiées: elles décrivent celles de l'ensemble des blocs de la région ainsi fusionnée."
   ]
  },
  {
   "cell_type": "code",
   "execution_count": 146,
   "metadata": {},
   "outputs": [],
   "source": [
    "def predmerge(b,R,*args):\n",
    "    \"\"\" Blocstat*Region*... -> bool \n",
    "        Si fusion, R[0] est modifié\n",
    "    \"\"\"\n",
    "    for i in range(len(R)):\n",
    "        if R[i][6] == b[6]:\n",
    "            return True\n",
    "    \n",
    "    return False"
   ]
  },
  {
   "cell_type": "markdown",
   "metadata": {},
   "source": [
    "### Question 3\n",
    "À l'aide de `predmerge()` et de la fonction `voisins()`, donnée au début du notebook, implémenter la fonction de fusion vues en TD (Exercice 3.3).\n",
    "\n",
    "Rappels sur les listes Python:\n",
    "- Initialisation: `L = []`  (liste vide),\n",
    "- Ajout de l'élément `a` à la liste `L`: `L.append(a)`,\n",
    "- Suppression du même élément: `L.remove(a)`,\n",
    "- Accès aux éléments d'une liste: identique aux tableaux Numpy."
   ]
  },
  {
   "cell_type": "code",
   "execution_count": 166,
   "metadata": {},
   "outputs": [],
   "source": [
    "def merge(S,I,pred,*args):\n",
    "    \"\"\" 4-aire*Array*(Blocstat*Region*...->bool) -> list[Region]\n",
    "        Fusionne les feuilles de S en une liste de régions\n",
    "    \"\"\"\n",
    "    L = []\n",
    "    regions = splitprofstats(S,I)\n",
    "    for i in range(len(regions)):\n",
    "        voisinage = voisins(regions[i], regions)\n",
    "        if pred(regions[i], voisinage):\n",
    "            L.append(regions[i])\n",
    "            \n",
    "    return L"
   ]
  },
  {
   "cell_type": "markdown",
   "metadata": {},
   "source": [
    "### Question 4\n",
    "Faire la mise au point des fonctions précédentes à l'aide de l'image img_test."
   ]
  },
  {
   "cell_type": "code",
   "execution_count": 176,
   "metadata": {},
   "outputs": [
    {
     "name": "stdout",
     "output_type": "stream",
     "text": [
      "(0, 3.0, 0, 3.0, 16, 150.0, 0.0)\n",
      "[(0, 0.0, 4.0, 4.0, 1, 150.0, 0.0), (0, 0.0, 5.0, 5.0, 1, 150.0, 0.0), (0, 0.0, 6.0, 6.0, 1, 150.0, 0.0), (0, 0.0, 7.0, 7, 1, 150.0, 0.0)]\n"
     ]
    }
   ],
   "source": [
    "arbre = split(small_test, (0,7,0,7), predsplit1, 5)\n",
    "regions = splitprofstats(arbre,small_test)\n",
    "#print(merge(arbre, img_test, predmerge))\n",
    "\n",
    "# def voisins(b,K):\n",
    "#     \"\"\" Blocstat*list[Blocstat]->list[Blocstat]\n",
    "#         retourne la liste des elements de K voisins de b\n",
    "#     \"\"\"\n",
    "print(regions[0])\n",
    "print(voisins(regions[0],regions))"
   ]
  },
  {
   "cell_type": "markdown",
   "metadata": {},
   "source": [
    "### Question 5\n",
    "Écrire une fonction ``regions(LR,shape)`` qui prend une liste de régions telle que rendu par la fonction ``merge()`` et rend une image des régions. Chaque région sera colorée avec le niveau de gris correspondant à la moyenne de la région. Le paramètre ``shape`` donne la taille de l'image à produire. Tester la fonction sur l'exemple précédent."
   ]
  },
  {
   "cell_type": "code",
   "execution_count": null,
   "metadata": {},
   "outputs": [],
   "source": [
    "def regions(LR,shape):\n",
    "    \"\"\" list[Region] -> Array \"\"\"\n"
   ]
  },
  {
   "cell_type": "markdown",
   "metadata": {},
   "source": [
    "## Exercice 4: expérimentation\n",
    "### Question 1\n",
    "Tester la fonction ``merge()`` sur les images ``angio``, ``cam``, ``muscle``, ``prisme`` et ``seiche``."
   ]
  },
  {
   "cell_type": "code",
   "execution_count": null,
   "metadata": {},
   "outputs": [],
   "source": []
  },
  {
   "cell_type": "markdown",
   "metadata": {},
   "source": [
    "### Question 2\n",
    "La fusion dépend de la façon dont on visite les régions. On peut alors faire un tri des feuilles de l'arbre 4-aire, par exemple, des blocs les plus gros aux plus petits, ou le contraire (utiliser la fonction Python ``sorted()``). La même question peut se poser lorsqu'on calcule l'ensemble des voisins de la région que l'on fusionne. Faut-il les trier ? Si oui, selon quel critère ? leur taille ? leur proximité ? Evidemment il n'y a pas de réponse universelle mais adaptée à chaque type de problème. Faites quelques tests pour voir l'influence de ces tris sur le résultat de la fusion."
   ]
  },
  {
   "cell_type": "code",
   "execution_count": null,
   "metadata": {},
   "outputs": [],
   "source": []
  }
 ],
 "metadata": {
  "kernelspec": {
   "display_name": "Python 3",
   "language": "python",
   "name": "python3"
  },
  "language_info": {
   "codemirror_mode": {
    "name": "ipython",
    "version": 3
   },
   "file_extension": ".py",
   "mimetype": "text/x-python",
   "name": "python",
   "nbconvert_exporter": "python",
   "pygments_lexer": "ipython3",
   "version": "3.6.5"
  }
 },
 "nbformat": 4,
 "nbformat_minor": 2
}
